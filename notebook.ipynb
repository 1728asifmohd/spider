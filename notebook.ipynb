{
 "cells": [
  {
   "cell_type": "code",
   "execution_count": null,
   "metadata": {},
   "outputs": [],
   "source": [
    "import serial\n",
    "from time import sleep\n",
    "import numpy as np\n",
    "%matplotlib inline\n",
    "from matplotlib import pyplot as plt \n",
    "from IPython.display import clear_output\n",
    "\n",
    "from keras.models import Sequential\n",
    "from keras.layers import Dense, Activation\n",
    "\n",
    "from ipywidgets import interact"
   ]
  },
  {
   "cell_type": "code",
   "execution_count": null,
   "metadata": {},
   "outputs": [],
   "source": [
    "ser = serial.Serial('/dev/cu.wchusbserial1410', 9600) # Establish the connection on a specific port\n",
    "print(ser.readline())"
   ]
  },
  {
   "cell_type": "code",
   "execution_count": null,
   "metadata": {
    "collapsed": true
   },
   "outputs": [],
   "source": [
    "def servo(angles):\n",
    "    s = b'<s'\n",
    "    for a in angles:\n",
    "        if a > 1:\n",
    "            a = 1\n",
    "        elif a < -1:\n",
    "            a = -1\n",
    "        a = int(a * 150 + 150)\n",
    "        \n",
    "        s += b'%03d' % a\n",
    "    s += b'>'\n",
    "    ser.write(s)"
   ]
  },
  {
   "cell_type": "code",
   "execution_count": null,
   "metadata": {
    "collapsed": true
   },
   "outputs": [],
   "source": [
    "def getMotion():\n",
    "    ser.write(b'<m>')\n",
    "    s = ser.readline()\n",
    "    s = s.decode(\"utf-8\")\n",
    "    s = s.replace('\\r', '').replace('\\n','')\n",
    "    return [float(a) for a in s.split('\\t')]"
   ]
  },
  {
   "cell_type": "code",
   "execution_count": null,
   "metadata": {
    "scrolled": true
   },
   "outputs": [],
   "source": [
    "# plot motion\n",
    "m = []\n",
    "for _ in range(1000):\n",
    "    clear_output(wait=True)\n",
    "    m.append(np.array(getMotion())[:3])\n",
    "    a = np.array(m)\n",
    "    fig = plt.plot(a[:,0], c='r') # front and back\n",
    "    fig = plt.plot(a[:,1], c='b') # left and right\n",
    "    fig = plt.plot(a[:,2], c='g')\n",
    "    plt.show()"
   ]
  },
  {
   "cell_type": "code",
   "execution_count": null,
   "metadata": {
    "collapsed": true
   },
   "outputs": [],
   "source": []
  },
  {
   "cell_type": "code",
   "execution_count": null,
   "metadata": {
    "collapsed": true
   },
   "outputs": [],
   "source": [
    "def height_rot_angles(h,r):\n",
    "    return [-h,r-.2,h-.1,r,h,r,-h+.1,r]\n",
    "\n",
    "def height_rot(h,r):\n",
    "    servo(height_rot_angles(h,r))\n",
    "    \n",
    "height_rot(1,0)"
   ]
  },
  {
   "cell_type": "code",
   "execution_count": null,
   "metadata": {
    "collapsed": true
   },
   "outputs": [],
   "source": [
    "height_rot(0,0)"
   ]
  },
  {
   "cell_type": "code",
   "execution_count": null,
   "metadata": {
    "collapsed": true
   },
   "outputs": [],
   "source": [
    "# sleep!\n",
    "\n",
    "height_rot(0,0)\n",
    "sleep(.5)\n",
    "height_rot(1,0)\n",
    "sleep(.2)\n",
    "height_rot(1,.2)\n",
    "sleep(.2)\n",
    "height_rot(1,-.2)\n",
    "sleep(.2)\n",
    "height_rot(1,0)"
   ]
  },
  {
   "cell_type": "code",
   "execution_count": null,
   "metadata": {
    "collapsed": true
   },
   "outputs": [],
   "source": [
    "# turn \n",
    "\n",
    "for t in np.linspace(0, np.pi*2, 60):\n",
    "    d = -1\n",
    "    height_rot(np.cos(d*t),np.sin(d*t))\n",
    "    sleep(.01)"
   ]
  },
  {
   "cell_type": "code",
   "execution_count": null,
   "metadata": {},
   "outputs": [],
   "source": [
    "# sense motion\n",
    "\n",
    "height_rot(.8,0)\n",
    "\n",
    "last_z = getMotion()[0]\n",
    "while True:\n",
    "    z = getMotion()[0]\n",
    "    clear_output(wait=True)\n",
    "    diff = abs(z-last_z)\n",
    "    print(diff)\n",
    "    if diff > 200:\n",
    "        for t in np.linspace(0,np.pi*2,10):\n",
    "            height_rot(.8,np.sin(t)*.5)\n",
    "            sleep(.05)\n",
    "        for t in range(10):\n",
    "            z = getMotion()[0]\n",
    "            last_z = z\n",
    "            sleep(.1)\n",
    "    last_z = z\n",
    "    sleep(.1)"
   ]
  },
  {
   "cell_type": "code",
   "execution_count": null,
   "metadata": {
    "collapsed": true
   },
   "outputs": [],
   "source": [
    "# move forward\n",
    "\n",
    "def forward(step=20):\n",
    "    s = height_rot_angles(.7,0)\n",
    "    servo(s)\n",
    "    for t in np.linspace(0, 2*np.pi, step):\n",
    "        st = s.copy()\n",
    "        a = np.sin(t)*.5\n",
    "        b = np.cos(-t)*.3 - .3\n",
    "\n",
    "        st[0] += a\n",
    "        st[1] += b\n",
    "\n",
    "        st[4] -= a\n",
    "        st[5] -= b\n",
    "\n",
    "        servo(st)\n",
    "        sleep(.01)\n",
    "\n",
    "    for t in np.linspace(0, 2*np.pi, step):\n",
    "        st = s.copy()\n",
    "        a = np.sin(t)*.3\n",
    "        b = np.cos(-t)*.3 - .3\n",
    "\n",
    "        st[6] += a\n",
    "        st[7] -= b\n",
    "\n",
    "        st[2] -= a\n",
    "        st[3] += b\n",
    "\n",
    "        servo(st)\n",
    "        sleep(.01)\n",
    "        \n",
    "forward()"
   ]
  },
  {
   "cell_type": "code",
   "execution_count": null,
   "metadata": {
    "collapsed": true
   },
   "outputs": [],
   "source": [
    "# move backward\n",
    "\n",
    "def backward(step=20):\n",
    "    s = height_rot_angles(.7,0)\n",
    "    servo(s)\n",
    "    for t in np.linspace(2*np.pi, 0, step):\n",
    "        st = s.copy()\n",
    "        a = np.sin(t)*.5\n",
    "        b = np.cos(-t)*.3 - .3\n",
    "\n",
    "        st[0] += a\n",
    "        st[1] += b\n",
    "\n",
    "        st[4] -= a\n",
    "        st[5] -= b\n",
    "\n",
    "        servo(st)\n",
    "        sleep(.01)\n",
    "\n",
    "    for t in np.linspace(2*np.pi, 0, step):\n",
    "        st = s.copy()\n",
    "        a = np.sin(t)*.3\n",
    "        b = np.cos(-t)*.3 - .3\n",
    "\n",
    "        st[6] += a\n",
    "        st[7] -= b\n",
    "\n",
    "        st[2] -= a\n",
    "        st[3] += b\n",
    "\n",
    "        servo(st)\n",
    "        sleep(.01)\n",
    "        \n",
    "backward()"
   ]
  },
  {
   "cell_type": "code",
   "execution_count": null,
   "metadata": {},
   "outputs": [],
   "source": [
    "forward()\n",
    "backward()"
   ]
  },
  {
   "cell_type": "code",
   "execution_count": null,
   "metadata": {
    "collapsed": true
   },
   "outputs": [],
   "source": []
  },
  {
   "cell_type": "code",
   "execution_count": null,
   "metadata": {
    "collapsed": true
   },
   "outputs": [],
   "source": [
    "# clear data\n",
    "\n",
    "angles = [] # joint angles\n",
    "senses = [] # motion sensor"
   ]
  },
  {
   "cell_type": "code",
   "execution_count": null,
   "metadata": {
    "scrolled": true
   },
   "outputs": [],
   "source": [
    "# data collection\n",
    "\n",
    "s = np.array([-1,0,1,0,1,0,-1,0], dtype=np.float64) # base position\n",
    "last_s = s.copy()\n",
    "servo(s)\n",
    "sleep(1)\n",
    "\n",
    "while True:\n",
    "    # move randomly\n",
    "    rd = np.random.randn(8) * .3\n",
    "    #rd[[1,3,5,7]] = 0 # limit to only outer joints\n",
    "    test_angles = np.clip(s+rd, -1, 1)\n",
    "    \n",
    "    for i in np.linspace(0, 1, 10):\n",
    "        servo((1-i) * last_s + i * test_angles)\n",
    "    \n",
    "    last_s = test_angles.copy()\n",
    "    sleep(.5)\n",
    "    \n",
    "    # sample some motions\n",
    "    sense_sum = np.zeros(3)\n",
    "    for i in range(10):\n",
    "        sense_sum += np.array(getMotion())[:3]\n",
    "        sleep(.05)\n",
    "        \n",
    "    sense = sense_sum/10.0\n",
    "    \n",
    "    # save experience pairs\n",
    "    angles.append(test_angles.copy())\n",
    "    senses.append(sense)\n",
    "    \n",
    "    clear_output(wait=True)\n",
    "    a = np.array(senses)\n",
    "    fig = plt.plot(a[:,0], c='r') # front and back\n",
    "    fig = plt.plot(a[:,1], c='b') # left and right\n",
    "    #fig = plt.plot(a[:,2], c='g') # up and down\n",
    "    plt.show()"
   ]
  },
  {
   "cell_type": "code",
   "execution_count": null,
   "metadata": {},
   "outputs": [],
   "source": [
    "# normalize motion\n",
    "\n",
    "axis = 0\n",
    "\n",
    "u = np.mean(senses, axis=0)\n",
    "std = np.std(senses, axis=0)\n",
    "\n",
    "senses_norm = (senses - u) / std\n",
    "\n",
    "single_axis = np.array(senses_norm)[:,axis]\n",
    "fig = plt.plot(single_axis)"
   ]
  },
  {
   "cell_type": "code",
   "execution_count": null,
   "metadata": {
    "collapsed": true
   },
   "outputs": [],
   "source": [
    "def line_fit(single_axis, joint_states):\n",
    "    m, b = np.polyfit(single_axis, joint_states, 1)\n",
    "    \n",
    "    T = np.linspace(np.min(single_axis), np.max(single_axis), 100)\n",
    "\n",
    "    fig = plt.scatter(single_axis, joint_states)\n",
    "    fig = plt.plot(T, [m*t + b for t in T])\n",
    "    \n",
    "    return m, b"
   ]
  },
  {
   "cell_type": "code",
   "execution_count": null,
   "metadata": {},
   "outputs": [],
   "source": [
    "line_fit(single_axis, np.array(angles)[:,0])"
   ]
  },
  {
   "cell_type": "code",
   "execution_count": null,
   "metadata": {},
   "outputs": [],
   "source": [
    "coeff = [line_fit(single_axis, np.array(angles)[:,j]) for j in range(8)]"
   ]
  },
  {
   "cell_type": "code",
   "execution_count": null,
   "metadata": {
    "collapsed": true
   },
   "outputs": [],
   "source": [
    "T = np.linspace(np.min(single_axis)-2, np.max(single_axis)+2, 20)\n",
    "\n",
    "for desired_h in T:\n",
    "    js = np.array([c[0]*desired_h + c[1] for c in coeff])\n",
    "    servo(js)\n",
    "    sleep(.1)"
   ]
  },
  {
   "cell_type": "code",
   "execution_count": null,
   "metadata": {
    "collapsed": true
   },
   "outputs": [],
   "source": []
  },
  {
   "cell_type": "code",
   "execution_count": null,
   "metadata": {
    "collapsed": true
   },
   "outputs": [],
   "source": [
    "# multi input\n",
    "\n",
    "model = Sequential()\n",
    "model.add(Dense(64, input_dim=2)) # two for xy\n",
    "model.add(Activation('tanh'))\n",
    "model.add(Dense(8))\n",
    "model.add(Activation('tanh'))\n",
    "\n",
    "# For a mean squared error regression problem\n",
    "model.compile(optimizer='rmsprop',\n",
    "              loss='mse')"
   ]
  },
  {
   "cell_type": "code",
   "execution_count": null,
   "metadata": {},
   "outputs": [],
   "source": [
    "# model training\n",
    "\n",
    "axis_vis = senses_norm[:,0]\n",
    "\n",
    "T = np.linspace(np.min(axis_vis), np.max(axis_vis), 30)\n",
    "\n",
    "for i in range(20):\n",
    "    model.fit(senses_norm[:,:2], np.array(angles), verbose=False, epochs=20)\n",
    "    \n",
    "    joint_angles = []\n",
    "    for m in T:\n",
    "        joint_angles.append(model.predict(np.array([[m, 0]]))[0])\n",
    "    \n",
    "    clear_output(wait=True)\n",
    "    fig = plt.plot(T, joint_angles)\n",
    "    plt.show()"
   ]
  },
  {
   "cell_type": "code",
   "execution_count": null,
   "metadata": {},
   "outputs": [],
   "source": [
    "def tilt(x, y):\n",
    "    joint_angles = model.predict(np.array([[x, y]]))[0]\n",
    "    servo(joint_angles)\n",
    "    sleep(.1)\n",
    "    \n",
    "interact(tilt, x=(-4, 4, .1),\n",
    "                y=(-4, 4, .1))"
   ]
  },
  {
   "cell_type": "code",
   "execution_count": null,
   "metadata": {
    "collapsed": true
   },
   "outputs": [],
   "source": [
    "# circle\n",
    "\n",
    "T = np.linspace(0, np.pi * 2.0, 50)\n",
    "\n",
    "for t in T:\n",
    "    joint_angles = model.predict(np.array([[np.sin(t)*3, np.cos(t)*3]]))[0]\n",
    "    servo(joint_angles)\n",
    "    sleep(.1)"
   ]
  },
  {
   "cell_type": "code",
   "execution_count": null,
   "metadata": {
    "collapsed": true
   },
   "outputs": [],
   "source": [
    "# side to side\n",
    "T = np.linspace(0, np.pi * 2.0, 30)\n",
    "\n",
    "for t in T:\n",
    "    joint_angles = model.predict(np.array([[0, np.sin(2*t)*3]]))[0]\n",
    "    servo(joint_angles)\n",
    "    sleep(.1)"
   ]
  },
  {
   "cell_type": "code",
   "execution_count": null,
   "metadata": {
    "collapsed": true
   },
   "outputs": [],
   "source": [
    "# front and back\n",
    "\n",
    "T = np.linspace(0, np.pi * 2.0, 30)\n",
    "\n",
    "for t in T:\n",
    "    joint_angles = model.predict(np.array([[np.sin(2*t)*3, 0]]))[0]\n",
    "    servo(joint_angles)\n",
    "    sleep(.1)"
   ]
  },
  {
   "cell_type": "code",
   "execution_count": null,
   "metadata": {},
   "outputs": [],
   "source": [
    "# balance\n",
    "\n",
    "x = 0\n",
    "y = 0\n",
    "\n",
    "while True:fina\n",
    "    m = np.array(getMotion())\n",
    "    \n",
    "    x *= 0.8\n",
    "    y *= 0.8\n",
    "    \n",
    "    x -= m[0]/4000\n",
    "    y -= m[1]/4000\n",
    "        \n",
    "    joint_angles = model.predict(np.array([[x, y]]))[0]\n",
    "    servo(joint_angles)\n",
    "    sleep(.05)"
   ]
  },
  {
   "cell_type": "code",
   "execution_count": null,
   "metadata": {
    "collapsed": true
   },
   "outputs": [],
   "source": [
    "#model.save('good_balance')"
   ]
  },
  {
   "cell_type": "code",
   "execution_count": null,
   "metadata": {
    "collapsed": true
   },
   "outputs": [],
   "source": [
    "model.load_weights('good_balance')"
   ]
  },
  {
   "cell_type": "code",
   "execution_count": null,
   "metadata": {
    "collapsed": true
   },
   "outputs": [],
   "source": [
    "\"\"\"\n",
    "\n",
    "# multi input\n",
    "\n",
    "model = Sequential()\n",
    "model.add(Dense(64, input_dim=2)) # two for xy\n",
    "model.add(Activation('tanh'))\n",
    "model.add(Dense(8))\n",
    "model.add(Activation('tanh'))\n",
    "\n",
    "# For a mean squared error regression problem\n",
    "model.compile(optimizer='rmsprop',\n",
    "              loss='mse')\n",
    "              \n",
    "\"\"\"\n"
   ]
  }
 ],
 "metadata": {
  "kernelspec": {
   "display_name": "Python 3",
   "language": "python",
   "name": "python3"
  },
  "language_info": {
   "codemirror_mode": {
    "name": "ipython",
    "version": 3
   },
   "file_extension": ".py",
   "mimetype": "text/x-python",
   "name": "python",
   "nbconvert_exporter": "python",
   "pygments_lexer": "ipython3",
   "version": "3.6.1"
  }
 },
 "nbformat": 4,
 "nbformat_minor": 2
}
